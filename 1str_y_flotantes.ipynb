{
 "cells": [
  {
   "cell_type": "code",
   "execution_count": null,
   "metadata": {},
   "outputs": [],
   "source": [
    "\"\"\"Write a Python program to convert these numbers into string then into float types: 10,20,30,40,50,60,70,80,90,100\n",
    "Head to the next Hyper link for free online Jupyter workspace:\"\"\""
   ]
  },
  {
   "cell_type": "code",
   "execution_count": 1,
   "metadata": {},
   "outputs": [
    {
     "name": "stdout",
     "output_type": "stream",
     "text": [
      "10\n",
      "10.0\n",
      "20\n",
      "20.0\n",
      "30\n",
      "30.0\n",
      "40\n",
      "40.0\n",
      "50\n",
      "50.0\n",
      "60\n",
      "60.0\n",
      "70\n",
      "70.0\n",
      "80\n",
      "80.0\n",
      "90\n",
      "90.0\n",
      "100\n",
      "100.0\n"
     ]
    }
   ],
   "source": [
    "numbers = 0\n",
    "floatnumbers = 0\n",
    "for i in range(10,110,10):\n",
    "    numbers = str(i)\n",
    "    floatnumbers = float(i)\n",
    "    print(numbers)\n",
    "    print(floatnumbers)"
   ]
  },
  {
   "cell_type": "code",
   "execution_count": 3,
   "metadata": {},
   "outputs": [
    {
     "name": "stdout",
     "output_type": "stream",
     "text": [
      "10,20,30,40,50,60,70,80,90,100\n",
      "10.0,20.0,30.0,40.0,50.0,60.0,70.0,80.0,90.0,100.0\n"
     ]
    }
   ],
   "source": [
    "numbers = 0\n",
    "floatnumbers = 0\n",
    "for i in range(10,110,10):\n",
    "    if i == 10:\n",
    "        numbers = str(i)+\",\"\n",
    "        floatnumbers = str(float(i))+\",\"\n",
    "    else:\n",
    "        if i == 100:\n",
    "            numbers = numbers+str(i)\n",
    "            floatnumbers = floatnumbers+str(float(i))\n",
    "        else:\n",
    "            numbers = numbers+str(i)+\",\"\n",
    "            floatnumbers = floatnumbers+str(float(i))+\",\"\n",
    "print(numbers)\n",
    "print(floatnumbers)"
   ]
  }
 ],
 "metadata": {
  "kernelspec": {
   "display_name": "Python 3",
   "language": "python",
   "name": "python3"
  },
  "language_info": {
   "codemirror_mode": {
    "name": "ipython",
    "version": 3
   },
   "file_extension": ".py",
   "mimetype": "text/x-python",
   "name": "python",
   "nbconvert_exporter": "python",
   "pygments_lexer": "ipython3",
   "version": "3.6.5"
  }
 },
 "nbformat": 4,
 "nbformat_minor": 5
}
