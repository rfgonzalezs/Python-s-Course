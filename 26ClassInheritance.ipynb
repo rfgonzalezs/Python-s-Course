{
 "cells": [
  {
   "cell_type": "code",
   "execution_count": null,
   "metadata": {},
   "outputs": [],
   "source": [
    "\"\"\"\n",
    "Given a class for a BasicPlan, write the classes for StandardPlan and PremiumPlan \n",
    "which have class attributes of the following:\n",
    "                              BasicPlan     StandardPlan    Premium Plan\n",
    "can_stream                        ✓              ✓               ✓                                        \n",
    "can_download                      ✓              ✓               ✓                                        \n",
    "SD OR HD                        has_SD         has_HD          has_UHD\n",
    "num_of_devices                    1              2                4         \n",
    "price                           $8.99          $12.99          $15.99\n",
    "\"\"\""
   ]
  },
  {
   "cell_type": "code",
   "execution_count": null,
   "metadata": {},
   "outputs": [],
   "source": [
    "class BasicPlan:\n",
    "    can_stream = True\n",
    "    can_download = True\n",
    "    num_of_devices = 1\n",
    "    has_SD = True\n",
    "    has_HD = False\n",
    "    has_UHD = False\n",
    "    price = '$8.99'\n",
    "class StandardPlan(BasicPlan):\n",
    "    num_of_devices = 2\n",
    "    has_HD = True\n",
    "    price = '$12.99'\n",
    "class PremiumPlan(StandardPlan):\n",
    "    num_of_devices = 4\n",
    "    has_UHD = True\n",
    "    price = '$15.99'"
   ]
  }
 ],
 "metadata": {
  "kernelspec": {
   "display_name": "Python 3",
   "language": "python",
   "name": "python3"
  },
  "language_info": {
   "codemirror_mode": {
    "name": "ipython",
    "version": 3
   },
   "file_extension": ".py",
   "mimetype": "text/x-python",
   "name": "python",
   "nbconvert_exporter": "python",
   "pygments_lexer": "ipython3",
   "version": "3.6.5"
  }
 },
 "nbformat": 4,
 "nbformat_minor": 2
}
