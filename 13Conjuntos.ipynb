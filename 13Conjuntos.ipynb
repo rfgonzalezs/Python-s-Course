{
 "cells": [
  {
   "cell_type": "code",
   "execution_count": null,
   "metadata": {},
   "outputs": [],
   "source": [
    "\"\"\"\n",
    "get the result of the union the next two sets:\n",
    "a = {'red', 'yellow','orange','green'}\n",
    "b = {'red','orange','black'}\n",
    "\"\"\""
   ]
  },
  {
   "cell_type": "code",
   "execution_count": 3,
   "metadata": {},
   "outputs": [
    {
     "name": "stdout",
     "output_type": "stream",
     "text": [
      "{'yellow', 'black', 'green', 'red', 'orange'}\n"
     ]
    }
   ],
   "source": [
    "a = {'red', 'yellow','orange','green'}\n",
    "b = {'red','orange','black'}\n",
    "union_set = (a|b)\n",
    "print(union_set)\n"
   ]
  }
 ],
 "metadata": {
  "kernelspec": {
   "display_name": "Python 3",
   "language": "python",
   "name": "python3"
  },
  "language_info": {
   "codemirror_mode": {
    "name": "ipython",
    "version": 3
   },
   "file_extension": ".py",
   "mimetype": "text/x-python",
   "name": "python",
   "nbconvert_exporter": "python",
   "pygments_lexer": "ipython3",
   "version": "3.6.5"
  }
 },
 "nbformat": 4,
 "nbformat_minor": 5
}
