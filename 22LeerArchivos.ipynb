{
 "cells": [
  {
   "cell_type": "code",
   "execution_count": null,
   "metadata": {},
   "outputs": [],
   "source": [
    "\"\"\"\n",
    "Write  a Python code to read the first three lines of a file?\n",
    "The file attached to this quiz resources\n",
    "\"\"\""
   ]
  },
  {
   "cell_type": "code",
   "execution_count": 2,
   "metadata": {},
   "outputs": [
    {
     "name": "stdout",
     "output_type": "stream",
     "text": [
      "Python Programming Basics full Guide for Python Programmers & Data Analysts in a simple and easy way with Examples in just a couple of hours from zero to hero.\n",
      "\n",
      "\n",
      "\n",
      "you will learn:\n",
      "\n"
     ]
    }
   ],
   "source": [
    "from itertools import islice\n",
    "\n",
    "def read_file_lines(file_name, nlines):\n",
    "    f = open(file_name)\n",
    "    for line in islice(f, nlines):\n",
    "        print(line)\n",
    "read_file_lines('22Python.txt',3)"
   ]
  }
 ],
 "metadata": {
  "kernelspec": {
   "display_name": "Python 3",
   "language": "python",
   "name": "python3"
  },
  "language_info": {
   "codemirror_mode": {
    "name": "ipython",
    "version": 3
   },
   "file_extension": ".py",
   "mimetype": "text/x-python",
   "name": "python",
   "nbconvert_exporter": "python",
   "pygments_lexer": "ipython3",
   "version": "3.6.5"
  }
 },
 "nbformat": 4,
 "nbformat_minor": 5
}
