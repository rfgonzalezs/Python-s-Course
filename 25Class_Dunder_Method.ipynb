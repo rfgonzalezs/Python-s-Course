{
 "cells": [
  {
   "cell_type": "code",
   "execution_count": null,
   "metadata": {},
   "outputs": [],
   "source": [
    "\"\"\"\n",
    "create class fruits and make print  an object fruit  lemon using dunder methods\n",
    "\"\"\""
   ]
  },
  {
   "cell_type": "code",
   "execution_count": 16,
   "metadata": {},
   "outputs": [
    {
     "name": "stdout",
     "output_type": "stream",
     "text": [
      "The fruit isn't a lemon\n",
      "The fruit is: lemon and has color: yellow\n",
      "The fruit isn't a lemon\n",
      "The fruit is: lemon and has color: green\n"
     ]
    }
   ],
   "source": [
    "class Fruit():\n",
    "    def __init__(self,name,color):\n",
    "        self.name = name\n",
    "        self.color = color\n",
    "    def __str__(self):\n",
    "        if self.name == 'lemon':\n",
    "            p = \"The fruit is: {} and has color: {}\".format(self.name, self.color)\n",
    "        else:\n",
    "            p = \"The fruit isn't a lemon\"\n",
    "        return p\n",
    "    \n",
    "x0 = Fruit('apple','red')\n",
    "x1 = Fruit('lemon','yellow')\n",
    "x2 = Fruit('grape','violet')\n",
    "x3 = Fruit('lemon','green')\n",
    "print(x0,x1,x2,x3, sep='\\n')"
   ]
  }
 ],
 "metadata": {
  "kernelspec": {
   "display_name": "Python 3",
   "language": "python",
   "name": "python3"
  },
  "language_info": {
   "codemirror_mode": {
    "name": "ipython",
    "version": 3
   },
   "file_extension": ".py",
   "mimetype": "text/x-python",
   "name": "python",
   "nbconvert_exporter": "python",
   "pygments_lexer": "ipython3",
   "version": "3.6.5"
  }
 },
 "nbformat": 4,
 "nbformat_minor": 5
}
