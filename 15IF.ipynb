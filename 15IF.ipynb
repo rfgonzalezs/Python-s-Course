{
 "cells": [
  {
   "cell_type": "code",
   "execution_count": null,
   "metadata": {},
   "outputs": [],
   "source": [
    "\"\"\"\n",
    "Write a program in python check the person age then show him the price of train ticket that fit his age in dollars:¶\n",
    "children until 18 years ticket = 2\n",
    "old people bigger than or equal 60 years ticket = 5\n",
    "young people from 18 - 59 year ticket = 10\n",
    "and don't forget to declare your age:\n",
    "\"\"\""
   ]
  },
  {
   "cell_type": "code",
   "execution_count": 7,
   "metadata": {},
   "outputs": [
    {
     "name": "stdin",
     "output_type": "stream",
     "text": [
      "What is your age:  60\n"
     ]
    },
    {
     "name": "stdout",
     "output_type": "stream",
     "text": [
      "Your tickt is $5 USD\n"
     ]
    }
   ],
   "source": [
    "age = int(input(\"What is your age: \"))\n",
    "if age <= 18:\n",
    "    print(\"Your tickt is $2 USD\")\n",
    "elif age > 18 and age <= 59:\n",
    "    print(\"Your tickt is $10 USD\")\n",
    "elif age >= 60:\n",
    "    print(\"Your tickt is $5 USD\")"
   ]
  }
 ],
 "metadata": {
  "kernelspec": {
   "display_name": "Python 3",
   "language": "python",
   "name": "python3"
  },
  "language_info": {
   "codemirror_mode": {
    "name": "ipython",
    "version": 3
   },
   "file_extension": ".py",
   "mimetype": "text/x-python",
   "name": "python",
   "nbconvert_exporter": "python",
   "pygments_lexer": "ipython3",
   "version": "3.6.5"
  }
 },
 "nbformat": 4,
 "nbformat_minor": 5
}
