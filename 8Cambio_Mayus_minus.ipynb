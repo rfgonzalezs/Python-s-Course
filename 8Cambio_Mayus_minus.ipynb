{
 "cells": [
  {
   "cell_type": "code",
   "execution_count": null,
   "metadata": {},
   "outputs": [],
   "source": [
    "\"\"\"write a program in python contain  a string message for an electrical instructional \n",
    "   sign in the street warning the cars drivers that they don't to turn left.\n",
    "\n",
    "    then check the string case.\n",
    "    then make it in upper case  in one code\n",
    "    finally make it in lower case in a second code.\n",
    "\"\"\""
   ]
  },
  {
   "cell_type": "code",
   "execution_count": 18,
   "metadata": {},
   "outputs": [
    {
     "name": "stdout",
     "output_type": "stream",
     "text": [
      "don't turn left!\n",
      "DON'T TURN LEFT!\n"
     ]
    }
   ],
   "source": [
    "msg = \"Don't turn left!\"\n",
    "if msg.islower()== False:\n",
    "    print(msg.lower())\n",
    "if msg.isupper() == False:\n",
    "    print(msg.upper())"
   ]
  }
 ],
 "metadata": {
  "kernelspec": {
   "display_name": "Python 3",
   "language": "python",
   "name": "python3"
  },
  "language_info": {
   "codemirror_mode": {
    "name": "ipython",
    "version": 3
   },
   "file_extension": ".py",
   "mimetype": "text/x-python",
   "name": "python",
   "nbconvert_exporter": "python",
   "pygments_lexer": "ipython3",
   "version": "3.6.5"
  }
 },
 "nbformat": 4,
 "nbformat_minor": 5
}
