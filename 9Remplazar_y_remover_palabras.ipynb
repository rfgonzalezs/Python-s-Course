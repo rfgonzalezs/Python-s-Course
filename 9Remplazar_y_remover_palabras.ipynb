{
 "cells": [
  {
   "cell_type": "code",
   "execution_count": null,
   "metadata": {},
   "outputs": [],
   "source": [
    "\"\"\"\n",
    "write a program in python to declare that The coding is fun, \n",
    "then replace the word 'fun' with  the 'awesome' \n",
    "and then remove the word ' The' : \n",
    "\"\"\""
   ]
  },
  {
   "cell_type": "code",
   "execution_count": 22,
   "metadata": {},
   "outputs": [
    {
     "name": "stdout",
     "output_type": "stream",
     "text": [
      "The coding is fun\n",
      "The coding is awesome\n",
      "coding is awesom\n"
     ]
    }
   ],
   "source": [
    "msg = \"The coding is fun\"\n",
    "print(msg)\n",
    "msg1 = msg.replace('fun','awesome')\n",
    "print(msg1)\n",
    "msg2 = msg1.strip('The ')\n",
    "print(msg2)\n"
   ]
  }
 ],
 "metadata": {
  "kernelspec": {
   "display_name": "Python 3",
   "language": "python",
   "name": "python3"
  },
  "language_info": {
   "codemirror_mode": {
    "name": "ipython",
    "version": 3
   },
   "file_extension": ".py",
   "mimetype": "text/x-python",
   "name": "python",
   "nbconvert_exporter": "python",
   "pygments_lexer": "ipython3",
   "version": "3.6.5"
  }
 },
 "nbformat": 4,
 "nbformat_minor": 5
}
