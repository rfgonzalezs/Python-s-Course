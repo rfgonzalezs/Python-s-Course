{
 "cells": [
  {
   "cell_type": "code",
   "execution_count": null,
   "metadata": {},
   "outputs": [],
   "source": [
    "\"\"\"\n",
    "Run the following lines of coding to see the result:\n",
    "string = 'python is powerful language'\n",
    "string.capitalize()\n",
    "string = '1st programming language'\n",
    "string.capitalize()\n",
    "string = 'pYTHON IS POWERFUL PROGRAMMING LANGUAGE'\n",
    "\"\"\""
   ]
  },
  {
   "cell_type": "code",
   "execution_count": 2,
   "metadata": {},
   "outputs": [
    {
     "name": "stdout",
     "output_type": "stream",
     "text": [
      "Python is powerful language\n",
      "1st programming language\n",
      "Python is powerful programming language\n",
      "Python The Powerful Programming Language\n"
     ]
    }
   ],
   "source": [
    "string = 'python is powerful language'\n",
    "print(string.capitalize())\n",
    "string1 = '1st programming language'\n",
    "print(string1.capitalize())\n",
    "string2 = 'pYTHON IS POWERFUL PROGRAMMING LANGUAGE'\n",
    "print(string2.swapcase())\n",
    "string3 = 'Python the powerful programming language'\n",
    "print(string3.title())"
   ]
  }
 ],
 "metadata": {
  "kernelspec": {
   "display_name": "Python 3",
   "language": "python",
   "name": "python3"
  },
  "language_info": {
   "codemirror_mode": {
    "name": "ipython",
    "version": 3
   },
   "file_extension": ".py",
   "mimetype": "text/x-python",
   "name": "python",
   "nbconvert_exporter": "python",
   "pygments_lexer": "ipython3",
   "version": "3.6.5"
  }
 },
 "nbformat": 4,
 "nbformat_minor": 5
}
