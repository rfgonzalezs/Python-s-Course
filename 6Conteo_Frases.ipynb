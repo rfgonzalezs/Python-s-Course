{
 "cells": [
  {
   "cell_type": "code",
   "execution_count": null,
   "metadata": {},
   "outputs": [],
   "source": [
    "\"\"\"\n",
    "Write  a program in python to declare four messages to the community of technology that the Python programming language \n",
    "is wonderful but describe python with  a different description in each message you will write, \n",
    "so with one message withe one python description then answer the following questions:\n",
    "How long each message you write is?\n",
    "what is the count of a specific letter in each message you will write?\n",
    "are the codes you write end with \"l\"?\n",
    "are the codes you write start with \"T\"?\n",
    "\"\"\""
   ]
  },
  {
   "cell_type": "code",
   "execution_count": 1,
   "metadata": {},
   "outputs": [
    {
     "name": "stdout",
     "output_type": "stream",
     "text": [
      "32\n",
      "30\n",
      "30\n",
      "49\n",
      "1\n",
      "4\n",
      "2\n",
      "3\n",
      "True\n",
      "True\n",
      "False\n",
      "True\n",
      "True\n",
      "True\n",
      "False\n",
      "True\n"
     ]
    }
   ],
   "source": [
    "msg_1 = \"The Python language is wonderful\"\n",
    "msg_2 = \"The Python language is elegant\"\n",
    "msg_3 = \"The Python language is poweful\"\n",
    "msg_4 = \"The Python language is suitable for data analysis\"\n",
    "print(len(msg_1))\n",
    "print(len(msg_2))\n",
    "print(len(msg_3))\n",
    "print(len(msg_4))\n",
    "print(msg_1.count('w'))\n",
    "print(msg_2.count('e'))\n",
    "print(msg_3.count('l'))\n",
    "print(msg_4.count('i'))\n",
    "print(msg_1.endswith('l'))\n",
    "print(msg_1.startswith('T'))\n",
    "print(msg_2.endswith('l'))\n",
    "print(msg_2.startswith('T'))\n",
    "print(msg_3.endswith('l'))\n",
    "print(msg_3.startswith('T'))\n",
    "print(msg_4.endswith('l'))\n",
    "print(msg_4.startswith('T'))"
   ]
  },
  {
   "cell_type": "code",
   "execution_count": null,
   "metadata": {},
   "outputs": [],
   "source": []
  }
 ],
 "metadata": {
  "kernelspec": {
   "display_name": "Python 3",
   "language": "python",
   "name": "python3"
  },
  "language_info": {
   "codemirror_mode": {
    "name": "ipython",
    "version": 3
   },
   "file_extension": ".py",
   "mimetype": "text/x-python",
   "name": "python",
   "nbconvert_exporter": "python",
   "pygments_lexer": "ipython3",
   "version": "3.6.5"
  }
 },
 "nbformat": 4,
 "nbformat_minor": 5
}
