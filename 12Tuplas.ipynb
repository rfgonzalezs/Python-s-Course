{
 "cells": [
  {
   "cell_type": "code",
   "execution_count": null,
   "metadata": {},
   "outputs": [],
   "source": [
    "\"\"\"\n",
    "convert the following tuple into useful string:\n",
    "my_tuple = ('P','y','t','h','o','n','P','r','o','g','r','a','m','m','i','n','g')\n",
    "\"\"\""
   ]
  },
  {
   "cell_type": "code",
   "execution_count": 6,
   "metadata": {},
   "outputs": [
    {
     "name": "stdout",
     "output_type": "stream",
     "text": [
      "PythonProgramming\n",
      "PythonProgramming\n"
     ]
    }
   ],
   "source": [
    "my_tuple = ('P','y','t','h','o','n','P','r','o','g','r','a','m','m','i','n','g')\n",
    "phrase = ''\n",
    "for item in my_tuple:\n",
    "    phrase += item\n",
    "print(phrase)\n",
    "\n",
    "#Otra forma:\n",
    "phrase =\"\".join(my_tuple)\n",
    "print(phrase)"
   ]
  }
 ],
 "metadata": {
  "kernelspec": {
   "display_name": "Python 3",
   "language": "python",
   "name": "python3"
  },
  "language_info": {
   "codemirror_mode": {
    "name": "ipython",
    "version": 3
   },
   "file_extension": ".py",
   "mimetype": "text/x-python",
   "name": "python",
   "nbconvert_exporter": "python",
   "pygments_lexer": "ipython3",
   "version": "3.6.5"
  }
 },
 "nbformat": 4,
 "nbformat_minor": 5
}
