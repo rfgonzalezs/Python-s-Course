{
 "cells": [
  {
   "cell_type": "code",
   "execution_count": null,
   "metadata": {},
   "outputs": [],
   "source": [
    "\"\"\"Write a program in python that take two string to complete and form a message that we can understand?\n",
    "msg =  \"python is ________  & _______  language and suitable for data analysis\"\n",
    "Head to the next Hyper link for free online Jupyter workspace:\"\"\""
   ]
  },
  {
   "cell_type": "code",
   "execution_count": 1,
   "metadata": {},
   "outputs": [
    {
     "name": "stdout",
     "output_type": "stream",
     "text": [
      "hello world, my name is Alexander ,and my car color is red\n",
      "hello world, my name is Alexander , and my car color is red\n"
     ]
    }
   ],
   "source": [
    "name = \"Alexander\"\n",
    "car_color  = \"red\"\n",
    "print(\"hello world, my name is\"+\" \"+name+\" \"+\",and my car color is\"+\" \"+car_color)\n",
    "msg =\"hello world, my name is {} , and my car color is {}\".format(name, car_color)\n",
    "print(msg)\n"
   ]
  },
  {
   "cell_type": "code",
   "execution_count": 5,
   "metadata": {},
   "outputs": [
    {
     "name": "stdout",
     "output_type": "stream",
     "text": [
      "python is powerfull & elegant language and suitable for data analysis\n"
     ]
    }
   ],
   "source": [
    "a = 'powerfull'\n",
    "b = 'elegant'\n",
    "msg = \"python is {} & {} language and suitable for data analysis\".format(a, b)\n",
    "print(msg)\n"
   ]
  }
 ],
 "metadata": {
  "kernelspec": {
   "display_name": "Python 3",
   "language": "python",
   "name": "python3"
  },
  "language_info": {
   "codemirror_mode": {
    "name": "ipython",
    "version": 3
   },
   "file_extension": ".py",
   "mimetype": "text/x-python",
   "name": "python",
   "nbconvert_exporter": "python",
   "pygments_lexer": "ipython3",
   "version": "3.6.5"
  }
 },
 "nbformat": 4,
 "nbformat_minor": 5
}
